{
 "cells": [
  {
   "cell_type": "code",
   "execution_count": 1,
   "id": "60d13ed8-2415-4553-8224-777eefe30d30",
   "metadata": {},
   "outputs": [
    {
     "name": "stderr",
     "output_type": "stream",
     "text": [
      "C:\\Users\\anash\\AppData\\Local\\Programs\\Python\\Python313\\Lib\\site-packages\\tqdm\\auto.py:21: TqdmWarning: IProgress not found. Please update jupyter and ipywidgets. See https://ipywidgets.readthedocs.io/en/stable/user_install.html\n",
      "  from .autonotebook import tqdm as notebook_tqdm\n"
     ]
    },
    {
     "name": "stdout",
     "output_type": "stream",
     "text": [
      "Path to dataset files: C:\\Users\\anash\\.cache\\kagglehub\\datasets\\artyomkruglov\\gaming-profiles-2025-steam-playstation-xbox\\versions\\1\n"
     ]
    }
   ],
   "source": [
    "import kagglehub\n",
    "\n",
    "# Download latest version\n",
    "path = kagglehub.dataset_download(\"artyomkruglov/gaming-profiles-2025-steam-playstation-xbox\")\n",
    "\n",
    "print(\"Path to dataset files:\", path)"
   ]
  },
  {
   "cell_type": "code",
   "execution_count": 2,
   "id": "aaa9adeb-f4a4-4470-afc9-3a60d9d60bb4",
   "metadata": {},
   "outputs": [
    {
     "name": "stdout",
     "output_type": "stream",
     "text": [
      "['playstation', 'steam', 'xbox']\n"
     ]
    }
   ],
   "source": [
    "import os\n",
    "\n",
    "path = r\"C:\\Users\\anash\\.cache\\kagglehub\\datasets\\artyomkruglov\\gaming-profiles-2025-steam-playstation-xbox\\versions\\1\"\n",
    "\n",
    "print(os.listdir(path))"
   ]
  },
  {
   "cell_type": "code",
   "execution_count": 3,
   "id": "34828984-42c5-4578-926e-b54fd753315e",
   "metadata": {},
   "outputs": [
    {
     "name": "stdout",
     "output_type": "stream",
     "text": [
      "playstation files: ['achievements.csv', 'games.csv', 'history.csv', 'players.csv', 'prices.csv', 'purchased_games.csv']\n",
      "steam files: ['achievements.csv', 'friends.csv', 'games.csv', 'history.csv', 'players.csv', 'prices.csv', 'private_steamids.csv', 'purchased_games.csv', 'reviews.csv']\n",
      "xbox files: ['achievements.csv', 'games.csv', 'history.csv', 'players.csv', 'prices.csv', 'purchased_games.csv']\n"
     ]
    }
   ],
   "source": [
    "\n",
    "base_path = r\"C:\\Users\\anash\\.cache\\kagglehub\\datasets\\artyomkruglov\\gaming-profiles-2025-steam-playstation-xbox\\versions\\1\"\n",
    "\n",
    "for platform in ['playstation', 'steam', 'xbox']:\n",
    "    files = os.listdir(os.path.join(base_path, platform))\n",
    "    print(platform, \"files:\", files)\n"
   ]
  },
  {
   "cell_type": "code",
   "execution_count": 4,
   "id": "3dcccde2-8334-48ec-9dfe-49985714b513",
   "metadata": {},
   "outputs": [],
   "source": [
    "import pandas as pd\n",
    "base_path = r\"C:\\Users\\anash\\.cache\\kagglehub\\datasets\\artyomkruglov\\gaming-profiles-2025-steam-playstation-xbox\\versions\\1\"\n",
    "platform_files ={}\n",
    "platforms = ['playstation', 'steam', 'xbox']\n",
    "for platform in platforms:\n",
    "    folder = os.path.join(base_path, platform)\n",
    "    platform_files[platform] = set(os.listdir(folder))"
   ]
  },
  {
   "cell_type": "code",
   "execution_count": 5,
   "id": "1f2acc28-20b3-4446-9513-b25168b87755",
   "metadata": {},
   "outputs": [
    {
     "name": "stdout",
     "output_type": "stream",
     "text": [
      "Common files across platforms: {'prices.csv', 'players.csv', 'achievements.csv', 'games.csv', 'history.csv', 'purchased_games.csv'}\n"
     ]
    }
   ],
   "source": [
    "# Step 2: Find common files across all platforms\n",
    "common_files = set.intersection(*platform_files.values())\n",
    "print(\"Common files across platforms:\", common_files)"
   ]
  },
  {
   "cell_type": "code",
   "execution_count": null,
   "id": "069d03e7-7774-43b6-b2b9-43003ebe2a17",
   "metadata": {},
   "outputs": [],
   "source": [
    "concatenated_data = {}\n",
    "for file_name in common_files:\n",
    "    df_list = []\n",
    "    for platform in platforms:\n",
    "        file_path = os.path.join(base_path, platform, file_name)\n",
    "        df = pd.read_csv(file_path)\n",
    "        df['platform'] = platform  # optional: keep track of platform\n",
    "        df_list.append(df)\n",
    "    concatenated_data[file_name] = pd.concat(df_list, ignore_index=True)\n",
    "\n",
    "# Example: access the concatenated achievements.csv\n",
    "df_achievements = concatenated_data['achievements.csv']\n",
    "print(df_achievements.head())"
   ]
  },
  {
   "cell_type": "code",
   "execution_count": null,
   "id": "291458b2-33d4-4fe0-bdf5-832de72d29cb",
   "metadata": {},
   "outputs": [],
   "source": []
  }
 ],
 "metadata": {
  "kernelspec": {
   "display_name": "Python 3 (ipykernel)",
   "language": "python",
   "name": "python3"
  },
  "language_info": {
   "codemirror_mode": {
    "name": "ipython",
    "version": 3
   },
   "file_extension": ".py",
   "mimetype": "text/x-python",
   "name": "python",
   "nbconvert_exporter": "python",
   "pygments_lexer": "ipython3",
   "version": "3.13.5"
  }
 },
 "nbformat": 4,
 "nbformat_minor": 5
}
